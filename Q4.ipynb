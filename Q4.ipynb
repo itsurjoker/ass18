{
 "cells": [
  {
   "cell_type": "code",
   "execution_count": 3,
   "id": "fead7f11-40f3-4b1e-8c4a-e57be126f51c",
   "metadata": {},
   "outputs": [],
   "source": [
    "import requests\n",
    "from bs4 import BeautifulSoup\n",
    "import os\n",
    "\n",
    "save_dir = \"views/\"\n",
    "if not os.path.exists(save_dir):\n",
    "    os.makedirs(save_dir)\n",
    "\n",
    "headers = {\n",
    "    \"User-Agent\": \"Mozilla/5.0 (Windows NT 10.0; Win64; x64) AppleWebKit/537.36 (KHTML, like Gecko) Chrome/58.0.3029.110 Safari/537.36\"\n",
    "}\n",
    "\n",
    "url = \"https://www.youtube.com/@PW-Foundation/videos\"\n",
    "\n",
    "response = requests.get(url, headers=headers)\n",
    "soup = BeautifulSoup(response.text, \"html.parser\")\n",
    "\n",
    "views = soup.find_all(\"a\")\n",
    "views_data = []\n",
    "\n",
    "for view in views[:5]:\n",
    "    view_text = view.get(\"view\")\n",
    "    views_data.append(view_text)\n",
    "\n",
    "file_path = os.path.join(save_dir, \"view.csv\")\n",
    "with open(file_path, \"w\") as f:\n",
    "    f.write(\"\\n\".join(\"views_data\"))"
   ]
  }
 ],
 "metadata": {
  "kernelspec": {
   "display_name": "Python 3 (ipykernel)",
   "language": "python",
   "name": "python3"
  },
  "language_info": {
   "codemirror_mode": {
    "name": "ipython",
    "version": 3
   },
   "file_extension": ".py",
   "mimetype": "text/x-python",
   "name": "python",
   "nbconvert_exporter": "python",
   "pygments_lexer": "ipython3",
   "version": "3.10.8"
  }
 },
 "nbformat": 4,
 "nbformat_minor": 5
}

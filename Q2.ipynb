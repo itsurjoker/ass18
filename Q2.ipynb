{
 "cells": [
  {
   "cell_type": "code",
   "execution_count": 1,
   "id": "b125dac2-574b-4c7f-b2ef-d61095308e4c",
   "metadata": {},
   "outputs": [],
   "source": [
    "#Q2.\n",
    "\n",
    "import requests\n",
    "from bs4 import BeautifulSoup\n",
    "import os\n",
    "\n",
    "save_dir = \"thumbnails/\"\n",
    "if not os.path.exists(save_dir):\n",
    "    os.makedirs(save_dir)\n",
    "\n",
    "headers = {\"User-Agent\": \"Mozilla/5.0 (Windows NT 10.0; Win64; x64) AppleWebKit/537.36 (KHTML, like Gecko) Chrome/58.0.3029.110 Safari/537.36\"}\n",
    "\n",
    "url = \"https://www.youtube.com/@PW-Foundation/videos\"\n",
    "\n",
    "response = requests.get(url)\n",
    "soup = BeautifulSoup(response.text, \"html.parser\")\n",
    "\n",
    "thumbnails = soup.find_all(\"a\")\n",
    "\n",
    "# Extract URLs of the first five video thumbnails\n",
    "thumbnail_urls = []\n",
    "for thumbnail in thumbnails[:5]:\n",
    "    img_tag = thumbnail.find('img')\n",
    "    if img_tag is not None:\n",
    "        thumbnail_url = img_tag.get(\"src\")\n",
    "        thumbnail_urls.append(thumbnail_url)\n",
    "\n",
    "file_path = os.path.join(save_dir, \"url_thumbnails.csv\")\n",
    "with open(file_path, \"w\") as f:\n",
    "    f.write(\"\\n\".join(thumbnail_urls))"
   ]
  }
 ],
 "metadata": {
  "kernelspec": {
   "display_name": "Python 3 (ipykernel)",
   "language": "python",
   "name": "python3"
  },
  "language_info": {
   "codemirror_mode": {
    "name": "ipython",
    "version": 3
   },
   "file_extension": ".py",
   "mimetype": "text/x-python",
   "name": "python",
   "nbconvert_exporter": "python",
   "pygments_lexer": "ipython3",
   "version": "3.10.8"
  }
 },
 "nbformat": 4,
 "nbformat_minor": 5
}
